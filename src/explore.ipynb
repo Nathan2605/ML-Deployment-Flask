{
 "cells": [
  {
   "cell_type": "markdown",
   "metadata": {},
   "source": [
    "# Explore here"
   ]
  },
  {
   "cell_type": "code",
   "execution_count": 6,
   "metadata": {},
   "outputs": [],
   "source": [
    "import pandas as pd\n",
    "import numpy as np\n",
    "from scipy import stats\n",
    "#import matplotlib.pyplot as plt\n",
    "import seaborn as sns\n",
    "from sklearn import tree\n",
    "\n",
    "\n",
    "from sklearn.model_selection import RepeatedStratifiedKFold\n",
    "from sklearn.model_selection import GridSearchCV\n",
    "from sklearn.linear_model import LogisticRegression\n",
    "from sklearn.neighbors import KNeighborsClassifier\n",
    "from sklearn.tree import DecisionTreeClassifier\n",
    "from sklearn.ensemble import RandomForestClassifier\n",
    "from xgboost import XGBClassifier\n",
    "from sklearn.ensemble import AdaBoostClassifier\n",
    "\n",
    "\n",
    "from imblearn.under_sampling import RandomUnderSampler\n",
    "from sklearn.model_selection import train_test_split\n",
    "from sklearn.preprocessing import StandardScaler, MinMaxScaler\n",
    "from sklearn.model_selection import train_test_split, cross_val_score\n",
    "from tableone import TableOne, load_dataset\n",
    "from sklearn.metrics import classification_report, accuracy_score, precision_recall_fscore_support, confusion_matrix, precision_score, recall_score, roc_auc_score\n",
    "from sklearn.metrics import roc_curve, auc"
   ]
  },
  {
   "cell_type": "code",
   "execution_count": 7,
   "metadata": {},
   "outputs": [
    {
     "name": "stdout",
     "output_type": "stream",
     "text": [
      "\u001b[0m\u001b[34;42m__pycache__\u001b[0m/  app.py  explore.ipynb  \u001b[34;42mtemplates\u001b[0m/  utils.py\n"
     ]
    }
   ],
   "source": [
    "ls"
   ]
  },
  {
   "cell_type": "code",
   "execution_count": 8,
   "metadata": {},
   "outputs": [],
   "source": [
    "df = pd.read_csv('../data/train (3).csv')"
   ]
  },
  {
   "cell_type": "code",
   "execution_count": 9,
   "metadata": {},
   "outputs": [
    {
     "data": {
      "text/html": [
       "<div>\n",
       "<style scoped>\n",
       "    .dataframe tbody tr th:only-of-type {\n",
       "        vertical-align: middle;\n",
       "    }\n",
       "\n",
       "    .dataframe tbody tr th {\n",
       "        vertical-align: top;\n",
       "    }\n",
       "\n",
       "    .dataframe thead th {\n",
       "        text-align: right;\n",
       "    }\n",
       "</style>\n",
       "<table border=\"1\" class=\"dataframe\">\n",
       "  <thead>\n",
       "    <tr style=\"text-align: right;\">\n",
       "      <th></th>\n",
       "      <th>index</th>\n",
       "      <th>Ganancia bruta</th>\n",
       "      <th>Ganancia (pérdida)</th>\n",
       "      <th>Ingresos de actividades ordinarias</th>\n",
       "      <th>Costo de ventas</th>\n",
       "      <th>Patrimonio total</th>\n",
       "      <th>Total pasivos</th>\n",
       "      <th>Total de activos</th>\n",
       "      <th>Ganancias acumuladas</th>\n",
       "      <th>Pasivos corrientes totales</th>\n",
       "      <th>Activos corrientes totales</th>\n",
       "      <th>Sector</th>\n",
       "      <th>event</th>\n",
       "    </tr>\n",
       "  </thead>\n",
       "  <tbody>\n",
       "    <tr>\n",
       "      <th>0</th>\n",
       "      <td>7620</td>\n",
       "      <td>3.218247e+05</td>\n",
       "      <td>1322028.0</td>\n",
       "      <td>3.218247e+05</td>\n",
       "      <td>NaN</td>\n",
       "      <td>9.147743e+06</td>\n",
       "      <td>97298.0</td>\n",
       "      <td>9.245041e+06</td>\n",
       "      <td>2610498.0</td>\n",
       "      <td>97298.0</td>\n",
       "      <td>3207644.0</td>\n",
       "      <td>L</td>\n",
       "      <td>0.0</td>\n",
       "    </tr>\n",
       "    <tr>\n",
       "      <th>1</th>\n",
       "      <td>17602</td>\n",
       "      <td>1.665600e+05</td>\n",
       "      <td>-160393.0</td>\n",
       "      <td>1.665600e+05</td>\n",
       "      <td>NaN</td>\n",
       "      <td>3.594330e+05</td>\n",
       "      <td>64899.0</td>\n",
       "      <td>4.243320e+05</td>\n",
       "      <td>-160393.0</td>\n",
       "      <td>64899.0</td>\n",
       "      <td>193787.0</td>\n",
       "      <td>G</td>\n",
       "      <td>0.0</td>\n",
       "    </tr>\n",
       "    <tr>\n",
       "      <th>2</th>\n",
       "      <td>18421</td>\n",
       "      <td>2.387397e+06</td>\n",
       "      <td>380574.0</td>\n",
       "      <td>3.686907e+06</td>\n",
       "      <td>1299510.0</td>\n",
       "      <td>2.421259e+06</td>\n",
       "      <td>2945965.0</td>\n",
       "      <td>5.367224e+06</td>\n",
       "      <td>461980.0</td>\n",
       "      <td>1615549.0</td>\n",
       "      <td>3364490.0</td>\n",
       "      <td>J</td>\n",
       "      <td>0.0</td>\n",
       "    </tr>\n",
       "  </tbody>\n",
       "</table>\n",
       "</div>"
      ],
      "text/plain": [
       "   index  Ganancia bruta  Ganancia (pérdida)  \\\n",
       "0   7620    3.218247e+05           1322028.0   \n",
       "1  17602    1.665600e+05           -160393.0   \n",
       "2  18421    2.387397e+06            380574.0   \n",
       "\n",
       "   Ingresos de actividades ordinarias  Costo de ventas  Patrimonio total  \\\n",
       "0                        3.218247e+05              NaN      9.147743e+06   \n",
       "1                        1.665600e+05              NaN      3.594330e+05   \n",
       "2                        3.686907e+06        1299510.0      2.421259e+06   \n",
       "\n",
       "   Total pasivos  Total de activos  Ganancias acumuladas  \\\n",
       "0        97298.0      9.245041e+06             2610498.0   \n",
       "1        64899.0      4.243320e+05             -160393.0   \n",
       "2      2945965.0      5.367224e+06              461980.0   \n",
       "\n",
       "   Pasivos corrientes totales  Activos corrientes totales Sector  event  \n",
       "0                     97298.0                   3207644.0      L    0.0  \n",
       "1                     64899.0                    193787.0      G    0.0  \n",
       "2                   1615549.0                   3364490.0      J    0.0  "
      ]
     },
     "execution_count": 9,
     "metadata": {},
     "output_type": "execute_result"
    }
   ],
   "source": [
    "df.head(3)"
   ]
  },
  {
   "cell_type": "code",
   "execution_count": 10,
   "metadata": {},
   "outputs": [],
   "source": [
    "def is_binary(df_, nums):\n",
    "    df = df_.copy()\n",
    "    variables = []\n",
    "    for var in nums:\n",
    "        flag = True\n",
    "        unique = df_[var].unique()\n",
    "        for value in unique:\n",
    "            if value not in [0, 1, np.nan, 0.0, 1.0]:\n",
    "                flag = False\n",
    "        if flag == True:\n",
    "            variables.append(var)\n",
    "    return variables\n",
    "\n",
    "def breakdown_vars(df, off_binary=False):\n",
    "    \"\"\"\n",
    "    This function allow us categorize accodign to numerical or not\n",
    "    \"\"\"\n",
    "    binaries = is_binary(df, df.columns)\n",
    "    categorial = []\n",
    "    nonormal = []\n",
    "    normal = []\n",
    "    for t in df.columns:\n",
    "        if off_binary == False:\n",
    "          if (df[t].dtypes.name==\"object\" or df[t].dtypes.name=='category') and  t not in binaries:\n",
    "            categorial.append(t)\n",
    "        else:\n",
    "           if (df[t].dtypes.name==\"object\" or df[t].dtypes.name=='category'):\n",
    "            categorial.append(t)\n",
    "        if (df[t].dtypes==\"int64\" or df[t].dtypes==\"float64\") and t not in binaries:\n",
    "                n,p = stats.shapiro(df[t])\n",
    "                if p<0.05:\n",
    "                    nonormal.append(t)\n",
    "                else:\n",
    "                    normal.append(t)\n",
    "    if off_binary == False:\n",
    "      return categorial, binaries, nonormal, normal\n",
    "    else:\n",
    "      return categorial, nonormal, normal\n",
    "\n",
    "def normalize(array):\n",
    "  return (array - array.mean())/array.std()\n",
    "\n",
    "\n",
    "def clean(df):\n",
    "    # tener en cuenta...\n",
    "    assert isinstance(df, pd.DataFrame), \"df needs to be a pd.DataFrame\"\n",
    "    df.dropna(inplace=True)\n",
    "    indices_to_keep = ~df.isin([np.nan, np.inf, -np.inf]).any(axis=1)\n",
    "    return df[indices_to_keep].astype(np.float64)"
   ]
  },
  {
   "cell_type": "code",
   "execution_count": 11,
   "metadata": {},
   "outputs": [],
   "source": [
    "#factorizar\n",
    "df['Sector'] = pd.factorize(df['Sector'])[0]\n",
    "\n",
    "#drop\n",
    "df = df.drop(columns=['Costo de ventas']) #muchos Nan\n",
    "\n",
    "#input Nan\n",
    "df['Ganancias acumuladas'] = df['Ganancias acumuladas'].fillna(df['Ganancias acumuladas'].mean())\n",
    "df['Pasivos corrientes totales'] = df['Pasivos corrientes totales'].fillna(df['Pasivos corrientes totales'].mean())\n",
    "df['Activos corrientes totales'] = df['Activos corrientes totales'].fillna(df['Activos corrientes totales'].mean())\n",
    "\n",
    "#ratios\n",
    "df['ROA']=df['Ganancia (pérdida)']/df['Total de activos']\n",
    "df['ROE']=df['Ganancia (pérdida)']/df['Patrimonio total']\n",
    "df['DR']=df['Total pasivos']/df['Total de activos']\n",
    "df['DC']=df['Pasivos corrientes totales']/df['Total pasivos']\n",
    "df['WCR']=df['Activos corrientes totales']/df['Pasivos corrientes totales']\n",
    "\n",
    "##df['LTD/E']=df['Total pasivos']/df['Patrimonio total']\n",
    "##df['RP'] = df['Ganancia bruta'] / df['Patrimonio total']\n",
    "##df['Ax1'] = (df['Activos corrientes totales'] - df['Pasivos corrientes totales'])/df['Total de activos']\n",
    "##df['Ax2'] = (df['Ganancias acumuladas'] / df['Total de activos'])\n",
    "##df['SRA'] = df['Pasivos corrientes totales'] / df['Patrimonio total']         ...ratios que generan colinealidad\n",
    "\n",
    "\n",
    "#datos\n",
    "features = ['Sector', 'ROA', 'ROE', 'DR', 'DC', 'WCR', 'event']\n",
    "df = df[features]\n",
    "\n",
    "#limpiar\n",
    "df = clean(df)\n",
    "df = df.dropna()"
   ]
  },
  {
   "cell_type": "code",
   "execution_count": 12,
   "metadata": {},
   "outputs": [
    {
     "data": {
      "text/html": [
       "<div>\n",
       "<style scoped>\n",
       "    .dataframe tbody tr th:only-of-type {\n",
       "        vertical-align: middle;\n",
       "    }\n",
       "\n",
       "    .dataframe tbody tr th {\n",
       "        vertical-align: top;\n",
       "    }\n",
       "\n",
       "    .dataframe thead th {\n",
       "        text-align: right;\n",
       "    }\n",
       "</style>\n",
       "<table border=\"1\" class=\"dataframe\">\n",
       "  <thead>\n",
       "    <tr style=\"text-align: right;\">\n",
       "      <th></th>\n",
       "      <th>Sector</th>\n",
       "      <th>ROA</th>\n",
       "      <th>ROE</th>\n",
       "      <th>DR</th>\n",
       "      <th>DC</th>\n",
       "      <th>WCR</th>\n",
       "      <th>event</th>\n",
       "    </tr>\n",
       "  </thead>\n",
       "  <tbody>\n",
       "    <tr>\n",
       "      <th>0</th>\n",
       "      <td>0.0</td>\n",
       "      <td>0.142999</td>\n",
       "      <td>0.144520</td>\n",
       "      <td>0.010524</td>\n",
       "      <td>1.000000</td>\n",
       "      <td>32.967214</td>\n",
       "      <td>0.0</td>\n",
       "    </tr>\n",
       "    <tr>\n",
       "      <th>1</th>\n",
       "      <td>1.0</td>\n",
       "      <td>-0.377989</td>\n",
       "      <td>-0.446239</td>\n",
       "      <td>0.152944</td>\n",
       "      <td>1.000000</td>\n",
       "      <td>2.985978</td>\n",
       "      <td>0.0</td>\n",
       "    </tr>\n",
       "    <tr>\n",
       "      <th>2</th>\n",
       "      <td>2.0</td>\n",
       "      <td>0.070907</td>\n",
       "      <td>0.157180</td>\n",
       "      <td>0.548881</td>\n",
       "      <td>0.548394</td>\n",
       "      <td>2.082568</td>\n",
       "      <td>0.0</td>\n",
       "    </tr>\n",
       "  </tbody>\n",
       "</table>\n",
       "</div>"
      ],
      "text/plain": [
       "   Sector       ROA       ROE        DR        DC        WCR  event\n",
       "0     0.0  0.142999  0.144520  0.010524  1.000000  32.967214    0.0\n",
       "1     1.0 -0.377989 -0.446239  0.152944  1.000000   2.985978    0.0\n",
       "2     2.0  0.070907  0.157180  0.548881  0.548394   2.082568    0.0"
      ]
     },
     "execution_count": 12,
     "metadata": {},
     "output_type": "execute_result"
    }
   ],
   "source": [
    "df.head(3)"
   ]
  },
  {
   "cell_type": "code",
   "execution_count": 13,
   "metadata": {},
   "outputs": [
    {
     "name": "stderr",
     "output_type": "stream",
     "text": [
      "/home/vscode/.local/lib/python3.10/site-packages/scipy/stats/_axis_nan_policy.py:573: UserWarning: scipy.stats.shapiro: For N > 5000, computed p-value may not be accurate. Current N is 14059.\n",
      "  res = hypotest_fun_out(*samples, **kwds)\n"
     ]
    },
    {
     "data": {
      "text/html": [
       "<div>\n",
       "<style scoped>\n",
       "    .dataframe tbody tr th:only-of-type {\n",
       "        vertical-align: middle;\n",
       "    }\n",
       "\n",
       "    .dataframe tbody tr th {\n",
       "        vertical-align: top;\n",
       "    }\n",
       "\n",
       "    .dataframe thead tr th {\n",
       "        text-align: left;\n",
       "    }\n",
       "</style>\n",
       "<table border=\"1\" class=\"dataframe\">\n",
       "  <thead>\n",
       "    <tr>\n",
       "      <th></th>\n",
       "      <th></th>\n",
       "      <th colspan=\"5\" halign=\"left\">Grouped by event</th>\n",
       "    </tr>\n",
       "    <tr>\n",
       "      <th></th>\n",
       "      <th></th>\n",
       "      <th>Missing</th>\n",
       "      <th>Overall</th>\n",
       "      <th>0.0</th>\n",
       "      <th>1.0</th>\n",
       "      <th>P-Value</th>\n",
       "    </tr>\n",
       "  </thead>\n",
       "  <tbody>\n",
       "    <tr>\n",
       "      <th>n</th>\n",
       "      <th></th>\n",
       "      <td></td>\n",
       "      <td>14059</td>\n",
       "      <td>13814</td>\n",
       "      <td>245</td>\n",
       "      <td></td>\n",
       "    </tr>\n",
       "    <tr>\n",
       "      <th>Sector, median [Q1,Q3]</th>\n",
       "      <th></th>\n",
       "      <td>0</td>\n",
       "      <td>5.0 [1.0,6.0]</td>\n",
       "      <td>5.0 [1.0,6.0]</td>\n",
       "      <td>6.0 [1.0,6.0]</td>\n",
       "      <td>&lt;0.001</td>\n",
       "    </tr>\n",
       "    <tr>\n",
       "      <th>ROA, median [Q1,Q3]</th>\n",
       "      <th></th>\n",
       "      <td>0</td>\n",
       "      <td>0.0 [0.0,0.1]</td>\n",
       "      <td>0.0 [0.0,0.1]</td>\n",
       "      <td>-0.0 [-0.1,0.0]</td>\n",
       "      <td>&lt;0.001</td>\n",
       "    </tr>\n",
       "    <tr>\n",
       "      <th>ROE, median [Q1,Q3]</th>\n",
       "      <th></th>\n",
       "      <td>0</td>\n",
       "      <td>0.1 [0.0,0.2]</td>\n",
       "      <td>0.1 [0.0,0.2]</td>\n",
       "      <td>0.0 [-0.1,0.1]</td>\n",
       "      <td>&lt;0.001</td>\n",
       "    </tr>\n",
       "    <tr>\n",
       "      <th>DR, median [Q1,Q3]</th>\n",
       "      <th></th>\n",
       "      <td>0</td>\n",
       "      <td>0.5 [0.3,0.7]</td>\n",
       "      <td>0.5 [0.3,0.7]</td>\n",
       "      <td>0.7 [0.6,0.9]</td>\n",
       "      <td>&lt;0.001</td>\n",
       "    </tr>\n",
       "    <tr>\n",
       "      <th>DC, median [Q1,Q3]</th>\n",
       "      <th></th>\n",
       "      <td>0</td>\n",
       "      <td>0.7 [0.4,1.0]</td>\n",
       "      <td>0.8 [0.4,1.0]</td>\n",
       "      <td>0.5 [0.2,0.9]</td>\n",
       "      <td>&lt;0.001</td>\n",
       "    </tr>\n",
       "    <tr>\n",
       "      <th>WCR, median [Q1,Q3]</th>\n",
       "      <th></th>\n",
       "      <td>0</td>\n",
       "      <td>1.7 [1.1,3.3]</td>\n",
       "      <td>1.7 [1.1,3.3]</td>\n",
       "      <td>1.3 [0.8,2.4]</td>\n",
       "      <td>&lt;0.001</td>\n",
       "    </tr>\n",
       "  </tbody>\n",
       "</table>\n",
       "</div><br />"
      ],
      "text/plain": [
       "                        Grouped by event                                                       \n",
       "                                 Missing        Overall            0.0              1.0 P-Value\n",
       "n                                                 14059          13814              245        \n",
       "Sector, median [Q1,Q3]                 0  5.0 [1.0,6.0]  5.0 [1.0,6.0]    6.0 [1.0,6.0]  <0.001\n",
       "ROA, median [Q1,Q3]                    0  0.0 [0.0,0.1]  0.0 [0.0,0.1]  -0.0 [-0.1,0.0]  <0.001\n",
       "ROE, median [Q1,Q3]                    0  0.1 [0.0,0.2]  0.1 [0.0,0.2]   0.0 [-0.1,0.1]  <0.001\n",
       "DR, median [Q1,Q3]                     0  0.5 [0.3,0.7]  0.5 [0.3,0.7]    0.7 [0.6,0.9]  <0.001\n",
       "DC, median [Q1,Q3]                     0  0.7 [0.4,1.0]  0.8 [0.4,1.0]    0.5 [0.2,0.9]  <0.001\n",
       "WCR, median [Q1,Q3]                    0  1.7 [1.1,3.3]  1.7 [1.1,3.3]    1.3 [0.8,2.4]  <0.001"
      ]
     },
     "execution_count": 13,
     "metadata": {},
     "output_type": "execute_result"
    }
   ],
   "source": [
    "#tabla1\n",
    "cat, binaries, nonormal, normal = breakdown_vars(df, off_binary=False)\n",
    "mytable = TableOne(df,categorical=cat, nonnormal=nonormal, groupby='event', pval=True)\n",
    "mytable"
   ]
  },
  {
   "cell_type": "code",
   "execution_count": 14,
   "metadata": {},
   "outputs": [
    {
     "data": {
      "text/plain": [
       "<Axes: >"
      ]
     },
     "execution_count": 14,
     "metadata": {},
     "output_type": "execute_result"
    },
    {
     "data": {
      "image/png": "[encoded data removed]",
      "text/plain": [
       "<Figure size 640x480 with 2 Axes>"
      ]
     },
     "metadata": {},
     "output_type": "display_data"
    }
   ],
   "source": [
    "#correlacion\n",
    "corr_matrix = df.corr()\n",
    "sns.heatmap(corr_matrix, annot=True, cmap='coolwarm', fmt=\".2f\") #no hay"
   ]
  },
  {
   "cell_type": "code",
   "execution_count": 15,
   "metadata": {},
   "outputs": [],
   "source": [
    "#target\n",
    "X = df.drop('event', axis=1)\n",
    "y = df['event']"
   ]
  },
  {
   "cell_type": "code",
   "execution_count": 16,
   "metadata": {},
   "outputs": [],
   "source": [
    "#split\n",
    "X_train, X_test, y_train, y_test = train_test_split(X, y, test_size=0.2, shuffle = True, random_state = 666, stratify=y)"
   ]
  },
  {
   "cell_type": "code",
   "execution_count": 17,
   "metadata": {},
   "outputs": [],
   "source": [
    "#desbalanceo\n",
    "rus = RandomUnderSampler(random_state=1234)\n",
    "X_train, y_train = rus.fit_resample(X, y)"
   ]
  },
  {
   "cell_type": "code",
   "execution_count": 18,
   "metadata": {},
   "outputs": [
    {
     "name": "stdout",
     "output_type": "stream",
     "text": [
      "              precision    recall  f1-score   support\n",
      "\n",
      "         0.0       1.00      0.74      0.85      2763\n",
      "         1.0       0.06      1.00      0.12        49\n",
      "\n",
      "    accuracy                           0.75      2812\n",
      "   macro avg       0.53      0.87      0.49      2812\n",
      "weighted avg       0.98      0.75      0.84      2812\n",
      "\n",
      "0.8715164676076728\n"
     ]
    }
   ],
   "source": [
    "model_rf = RandomForestClassifier(random_state = 42)\n",
    "model_rf.fit(X_train, y_train)\n",
    "preds_rf = model_rf.predict(X_test)\n",
    "print(classification_report(y_test, preds_rf))\n",
    "\n",
    "#roc\n",
    "fpr, tpr, thresholds = roc_curve(y_test, preds_rf)\n",
    "roc_auc = auc(fpr, tpr)\n",
    "print(roc_auc)"
   ]
  },
  {
   "cell_type": "code",
   "execution_count": 19,
   "metadata": {},
   "outputs": [],
   "source": [
    "def grid_RandomForest(X_train, y_train):\n",
    "  model = RandomForestClassifier(random_state=0)\n",
    "  n_estimators = [100,500]\n",
    "  criterion = ['gini', 'entropy', 'log_loss']\n",
    "  min_samples_split = [0.05, 0.1,]\n",
    "  max_depth = [2,3,4]\n",
    "  grid = dict(n_estimators = n_estimators, criterion = criterion,\n",
    "              min_samples_split = min_samples_split, max_depth = max_depth)\n",
    "  cv = RepeatedStratifiedKFold(n_splits=5, n_repeats=1, random_state=1)\n",
    "  grid_search = GridSearchCV(estimator=model, param_grid=grid, n_jobs=-1, cv=cv,\n",
    "                            scoring='recall',error_score='raise')\n",
    "  grid_result = grid_search.fit(X_train, y_train)\n",
    "  return  grid_result.best_estimator_"
   ]
  },
  {
   "cell_type": "code",
   "execution_count": 20,
   "metadata": {},
   "outputs": [
    {
     "name": "stderr",
     "output_type": "stream",
     "text": [
      "/home/vscode/.local/lib/python3.10/site-packages/numpy/ma/core.py:2881: RuntimeWarning: invalid value encountered in cast\n",
      "  _data = np.array(data, dtype=dtype, copy=copy,\n"
     ]
    },
    {
     "name": "stdout",
     "output_type": "stream",
     "text": [
      "              precision    recall  f1-score   support\n",
      "\n",
      "         0.0       0.99      0.72      0.84      2763\n",
      "         1.0       0.05      0.78      0.09        49\n",
      "\n",
      "    accuracy                           0.72      2812\n",
      "   macro avg       0.52      0.75      0.46      2812\n",
      "weighted avg       0.98      0.72      0.82      2812\n",
      "\n",
      "0.749499582677805\n"
     ]
    }
   ],
   "source": [
    "best_rf = grid_RandomForest(X_train,y_train)\n",
    "best_rf.fit(X_train, y_train)\n",
    "preds_rf2 = best_rf.predict(X_test)\n",
    "print(classification_report(y_test, preds_rf2))\n",
    "\n",
    "#roc\n",
    "fpr, tpr, thresholds = roc_curve(y_test, preds_rf2)\n",
    "roc_auc = auc(fpr, tpr)\n",
    "print(roc_auc)"
   ]
  },
  {
   "cell_type": "code",
   "execution_count": 39,
   "metadata": {},
   "outputs": [],
   "source": [
    "from joblib import dump"
   ]
  },
  {
   "cell_type": "code",
   "execution_count": null,
   "metadata": {},
   "outputs": [],
   "source": [
    "#dump(best_rf, open(\"../models/best_rf\", \"wb\"))"
   ]
  },
  {
   "cell_type": "code",
   "execution_count": 65,
   "metadata": {},
   "outputs": [],
   "source": [
    "import joblib\n",
    "model = joblib.dump(best_rf, '../models/best_rf.pkl')"
   ]
  }
 ],
 "metadata": {
  "kernelspec": {
   "display_name": "Python 3",
   "language": "python",
   "name": "python3"
  },
  "language_info": {
   "codemirror_mode": {
    "name": "ipython",
    "version": 3
   },
   "file_extension": ".py",
   "mimetype": "text/x-python",
   "name": "python",
   "nbconvert_exporter": "python",
   "pygments_lexer": "ipython3",
   "version": "3.10.12"
  },
  "orig_nbformat": 4
 },
 "nbformat": 4,
 "nbformat_minor": 2
}
